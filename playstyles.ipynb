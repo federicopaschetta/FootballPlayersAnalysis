{
 "cells": [
  {
   "cell_type": "code",
   "execution_count": 24,
   "metadata": {},
   "outputs": [],
   "source": [
    "import pandas as pd\n",
    "from matplotlib import pyplot as plt"
   ]
  },
  {
   "cell_type": "code",
   "execution_count": 25,
   "metadata": {},
   "outputs": [],
   "source": [
    "play_styles_filepath = 'play_styles.txt'\n",
    "play_styles_dictionary = {}"
   ]
  },
  {
   "cell_type": "code",
   "execution_count": 26,
   "metadata": {},
   "outputs": [],
   "source": [
    "with open(play_styles_filepath, 'r') as play_styles_file:\n",
    "    space = True\n",
    "    act_role = None\n",
    "    for line in play_styles_file:\n",
    "        if space:\n",
    "            styles_list = []\n",
    "            act_role = line.strip()\n",
    "            space = False\n",
    "        elif line == '\\n':\n",
    "            space = True\n",
    "            play_styles_dictionary[act_role] = styles_list\n",
    "        else:\n",
    "            line = line.strip().split(' - ')\n",
    "            styles_list.append({line[0]: line[1]})\n",
    "            "
   ]
  },
  {
   "cell_type": "code",
   "execution_count": 27,
   "metadata": {},
   "outputs": [
    {
     "data": {
      "text/plain": [
       "dict_keys(['Goalkeeper', 'Centre-Back', 'Left-Back', 'Right-Back', 'Midfielder', 'Left Winger', 'Right Winger', 'Forward'])"
      ]
     },
     "execution_count": 27,
     "metadata": {},
     "output_type": "execute_result"
    }
   ],
   "source": [
    "play_styles_dictionary.keys()"
   ]
  }
 ],
 "metadata": {
  "kernelspec": {
   "display_name": "Python 3",
   "language": "python",
   "name": "python3"
  },
  "language_info": {
   "codemirror_mode": {
    "name": "ipython",
    "version": 3
   },
   "file_extension": ".py",
   "mimetype": "text/x-python",
   "name": "python",
   "nbconvert_exporter": "python",
   "pygments_lexer": "ipython3",
   "version": "3.12.3"
  }
 },
 "nbformat": 4,
 "nbformat_minor": 2
}
