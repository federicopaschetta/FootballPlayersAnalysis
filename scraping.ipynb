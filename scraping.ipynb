{
 "cells": [
  {
   "cell_type": "markdown",
   "metadata": {},
   "source": [
    "# Football Data Webscraping"
   ]
  },
  {
   "cell_type": "markdown",
   "metadata": {},
   "source": [
    "#### Importing libraries"
   ]
  },
  {
   "cell_type": "code",
   "execution_count": 49,
   "metadata": {},
   "outputs": [],
   "source": [
    "import pandas as pd # DataFrame management\n",
    "from selenium import webdriver # WebScraping driver\n",
    "from selenium.webdriver.common.by import By # WebScraping property library\n",
    "import time # Sleep library"
   ]
  },
  {
   "cell_type": "markdown",
   "metadata": {},
   "source": [
    "### Initializing Firefox driver"
   ]
  },
  {
   "cell_type": "code",
   "execution_count": 50,
   "metadata": {},
   "outputs": [],
   "source": [
    "driver = webdriver.Firefox()"
   ]
  },
  {
   "cell_type": "markdown",
   "metadata": {},
   "source": [
    "### Defining base scraping functions"
   ]
  },
  {
   "cell_type": "code",
   "execution_count": 21,
   "metadata": {},
   "outputs": [],
   "source": [
    "def load_link_dicts(fbr_link: dict, tm_link: dict, size_link: dict)-> None:\n",
    "    '''\n",
    "    Loads dictionaries with FbRef and Transfermarkt leagues links \n",
    "    \n",
    "    Parameters\n",
    "    ----------\n",
    "    fbr_link : dict\n",
    "        Dictionary containing league names as keys and FbRef links as values\n",
    "    tm_link : dict\n",
    "        Dictionary containing league names as keys and Transfermarkt links as values\n",
    "    size_link : dict\n",
    "        Dictionary containing league names as keys and number of teams it has as values\n",
    "    '''\n",
    "    with open('fbr_links.txt', 'r') as fbr_file:\n",
    "        for line in fbr_file:\n",
    "            line = line.strip().split(',')\n",
    "            fbr_link[line[0]] = line[1]\n",
    "    with open('tm_links.txt', 'r') as tm_file:\n",
    "        for line in tm_file:\n",
    "            line = line.strip().split(',')\n",
    "            tm_link[line[0]] = line[1]\n",
    "            size_link[line[0]] = line[2]\n",
    "            "
   ]
  },
  {
   "cell_type": "code",
   "execution_count": 22,
   "metadata": {},
   "outputs": [],
   "source": [
    "def click_cookie_fbref() -> None:\n",
    "    '''\n",
    "    Finds FbRef cookie request if present and clicks its accept button. If not found just passes\n",
    "    '''\n",
    "    try:\n",
    "        elem_cookie = driver.find_element(By.CLASS_NAME, 'css-47sehv')\n",
    "        elem_cookie.click()\n",
    "    except:\n",
    "        pass"
   ]
  },
  {
   "cell_type": "code",
   "execution_count": 23,
   "metadata": {},
   "outputs": [],
   "source": [
    "def click_cookie_tm():\n",
    "    '''\n",
    "    Finds Transfermarkt cookie request if present and clicks its accept button. If not found just passes\n",
    "    '''\n",
    "    from selenium.webdriver.support.ui import WebDriverWait\n",
    "    from selenium.webdriver.support import expected_conditions as EC\n",
    "    try:\n",
    "        iframe = driver.find_element(By.CSS_SELECTOR, \"[title='Iframe title']\")\n",
    "        driver.switch_to.frame(iframe)\n",
    "        element_button = WebDriverWait(driver, 2).until(\n",
    "            EC.visibility_of_element_located((By.CSS_SELECTOR, 'button'))\n",
    "        )\n",
    "        element_button.click()\n",
    "    except:\n",
    "        pass\n",
    "    finally:\n",
    "        driver.switch_to.default_content()"
   ]
  },
  {
   "cell_type": "code",
   "execution_count": 40,
   "metadata": {},
   "outputs": [],
   "source": [
    "def go_to_tm(tm_url):\n",
    "    '''\n",
    "    Directs the driver to the specified URL, waits 3 seconds and, if present, clicks accept cookies button\n",
    "    \n",
    "    Parameters\n",
    "    ----------\n",
    "    tm_url : string\n",
    "        URL of the website the driver wants to go to\n",
    "    '''\n",
    "    driver.get(tm_url)\n",
    "    time.sleep(1)\n",
    "    click_cookie_tm()"
   ]
  },
  {
   "cell_type": "markdown",
   "metadata": {},
   "source": [
    "### Getting Transfermarkt links for each team"
   ]
  },
  {
   "cell_type": "code",
   "execution_count": 25,
   "metadata": {},
   "outputs": [],
   "source": [
    "def get_teams_links(league_name):\n",
    "    '''\n",
    "    \n",
    "    \n",
    "    Parameters\n",
    "    ----------\n",
    "    league_name : string\n",
    "        Name of the league to get team TM links of\n",
    "    '''\n",
    "    tm_teams_links = driver.find_elements(By.CSS_SELECTOR, '[class=\"hauptlink no-border-links\"]')\n",
    "    with open(f\"{league_name}/tm_teams_links.txt\", 'w', encoding='utf-8') as tm_teams_links_files:\n",
    "        for team in tm_teams_links:\n",
    "            tm_teams_links_files.write(f\"{team.text.strip()},{team.find_element(By.CSS_SELECTOR, 'a').get_attribute('href')}\\n\")\n"
   ]
  },
  {
   "cell_type": "code",
   "execution_count": 26,
   "metadata": {},
   "outputs": [],
   "source": [
    "def load_tm_teams_links_dict(league_name):\n",
    "    tm_teams_links_dict = {}\n",
    "    with open(f'{league_name}/tm_teams_links.txt', 'r') as tm_team_file:\n",
    "        for line in tm_team_file:\n",
    "            line = line.strip().split(',')\n",
    "            tm_teams_links_dict[line[0]] = line[1]\n",
    "    return tm_teams_links_dict"
   ]
  },
  {
   "cell_type": "code",
   "execution_count": 57,
   "metadata": {},
   "outputs": [],
   "source": [
    "def get_players_data(league_name, tm_teams_links_dict):\n",
    "    players_data = []\n",
    "    for index, team in enumerate(tm_teams_links_dict.keys()):\n",
    "        try:\n",
    "            driver.get(tm_teams_links_dict[team])\n",
    "            time.sleep(1)\n",
    "            table_elements = driver.find_element(By.CSS_SELECTOR, '[class=\"items\"]')\n",
    "            table_rows = table_elements.find_elements(By.CSS_SELECTOR, 'tr')\n",
    "            table_rows.pop(0)\n",
    "            table_rows = table_rows[::3]\n",
    "            for row in table_rows:\n",
    "                line_data = row.text.split('\\n')[1:]\n",
    "                date = line_data[2].split()\n",
    "                if len(date) > 4:\n",
    "                    dob = \" \".join(date[:3])\n",
    "                    val = date[4]\n",
    "                else:\n",
    "                    date.pop(-1)\n",
    "                    dob = \" \".join(date)\n",
    "                    val = line_data[3]\n",
    "                players_data.append([line_data[0], line_data[1], team, dob, val]) \n",
    "        except:\n",
    "            continue\n",
    "    df = pd.DataFrame(players_data, columns =['Player', 'Role', 'Team', 'Birth', 'Value'])\n",
    "    df.to_csv(f'{league_name}/tm_data.csv', index= False)\n",
    "    return df \n"
   ]
  },
  {
   "cell_type": "code",
   "execution_count": 28,
   "metadata": {},
   "outputs": [],
   "source": [
    "def go_to_fbr(url_fbr):\n",
    "    driver.get(url_fbr)\n",
    "    time.sleep(1)\n",
    "    click_cookie_fbref()"
   ]
  },
  {
   "cell_type": "markdown",
   "metadata": {},
   "source": [
    "### Get Team Name and URL"
   ]
  },
  {
   "cell_type": "code",
   "execution_count": 29,
   "metadata": {},
   "outputs": [],
   "source": [
    "def get_fbr_teams_links(league_name, league_size):\n",
    "    teams_links = driver.find_elements(By.CSS_SELECTOR, '[data-stat=\"team\"]')\n",
    "    teams_links.pop(0)\n",
    "    teams_links = teams_links[:league_size]\n",
    "    with open(f'{league_name}/fbr_team_links.txt', 'w') as output:\n",
    "        for team in teams_links:\n",
    "            output.write(f'{team.text},{team.find_element(By.CSS_SELECTOR, 'a').get_attribute('href')}\\n')"
   ]
  },
  {
   "cell_type": "markdown",
   "metadata": {},
   "source": [
    "### Get Players URL from each Team"
   ]
  },
  {
   "cell_type": "code",
   "execution_count": 30,
   "metadata": {},
   "outputs": [],
   "source": [
    "def load_fbr_teams_links_dict(league_name):\n",
    "    teams_links = {}\n",
    "    with open(f'{league_name}/fbr_team_links.txt', 'r') as teams:\n",
    "        for line in teams:\n",
    "            data = line.strip().split(',')\n",
    "            teams_links[data[0]] = data[1]\n",
    "    return teams_links"
   ]
  },
  {
   "cell_type": "code",
   "execution_count": 31,
   "metadata": {},
   "outputs": [],
   "source": [
    "def get_fbr_players_links(league_name, df, teams_links):\n",
    "    teams_players_dict = {}\n",
    "    all_players = df['Player'].values\n",
    "    with open(f'{league_name}/fbr_player_links.txt', 'w', encoding='utf-8') as player_file:\n",
    "        for team in teams_links.keys():\n",
    "            team_players = []\n",
    "            driver.get(teams_links[team])\n",
    "            table = driver.find_element(By.XPATH, \"//table[contains(@class, 'stats_table')]\")\n",
    "            tbody = table.find_element(By.CSS_SELECTOR, 'tbody')\n",
    "            players = tbody.find_elements(By.CSS_SELECTOR, 'tr')\n",
    "            for player in players:\n",
    "                csk_val = (player.find_element(By.XPATH, './th').get_attribute('csk'))\n",
    "                if csk_val is not None and len(csk_val) > 0:\n",
    "                    elem = player.find_element(By.XPATH, './th/a')\n",
    "                    if elem.text in all_players:\n",
    "                        player_file.write(f\"{elem.text},{elem.get_attribute('href')}\\n\")\n",
    "                        team_players.append(elem.text)\n",
    "            teams_players_dict[team] = team_players\n",
    "    return teams_players_dict            "
   ]
  },
  {
   "cell_type": "code",
   "execution_count": 32,
   "metadata": {},
   "outputs": [],
   "source": [
    "def load_fbr_players_links(league_name):\n",
    "    player_links_dict = {}\n",
    "    with open(f'{league_name}/fbr_player_links.txt', 'r', encoding='utf-8') as file:\n",
    "        for line in file:\n",
    "            data = line.strip().split(',')\n",
    "            player_links_dict[data[0]] = data[1]\n",
    "    return player_links_dict"
   ]
  },
  {
   "cell_type": "code",
   "execution_count": 33,
   "metadata": {},
   "outputs": [],
   "source": [
    "def get_fbr_player_info(league_name, player_links_dict):\n",
    "    players_data_list = []\n",
    "    for index, key in enumerate(player_links_dict.keys()):\n",
    "        player_d = {}\n",
    "        go_to_fbr(player_links_dict[key])\n",
    "        try:\n",
    "            driver.find_element(By.CSS_SELECTOR, '[id=\"meta_more_button\"]').click()\n",
    "        except Exception as e:\n",
    "            pass\n",
    "        try:\n",
    "            player_data = driver.find_elements(By.CSS_SELECTOR, '[id=\"meta\"] p')            \n",
    "            init_index = next((i for i, x in enumerate(player_data) if x.text.startswith(\"Position\")), None)\n",
    "            end_index = next((i for i, x in enumerate(player_data) if x.text.startswith(\"Wages\")), None)\n",
    "            player_data = player_data[init_index:end_index+1] if end_index is not None else player_data[init_index:]\n",
    "            first_line = player_data[0].text.strip().split('▪')\n",
    "            pos_block = first_line[0].split()\n",
    "            second_pos = pos_block[2] if len(pos_block)>2 else None  \n",
    "            foot = first_line[1].split()[1].strip() if len(first_line)>1 else None\n",
    "            hw = player_data[1].text.split(' ')\n",
    "            if len(player_data)>5:\n",
    "                wage_line = player_data[5].text.split(\" \") \n",
    "                wage = wage_line[2]\n",
    "                exp = wage_line[6].strip('.')\n",
    "            else:\n",
    "                wage, exp = None, None\n",
    "            \n",
    "            \n",
    "            player_d = {'Player': key, 'Role': pos_block[1], 'Position': second_pos, 'Foot': foot, 'Height': hw[0].strip(','), 'Weight': hw[1],\n",
    "                    'Birth': \" \".join(player_data[2].text.split(' ')[1:4]), \"Nationality\": player_data[3].text.split(\": \")[1].split()[0],\n",
    "                    'Club': player_data[4].text.split(\": \")[1], 'Wage': wage, 'Expiration': exp}\n",
    "            \n",
    "        except Exception as e:\n",
    "            print(key, e)\n",
    "        try:\n",
    "            player_stats = driver.find_element(By.XPATH, \"//table[contains(@class, 'stats_table')]\").find_elements(By.CSS_SELECTOR, 'tr')[1:]\n",
    "            for elem in player_stats:\n",
    "                category = elem.find_element(By.CSS_SELECTOR, \"th\").text.replace(\" \", \"\")\n",
    "                if category is not None and len(category)>0:\n",
    "                    player_d[category] = elem.find_element(By.CSS_SELECTOR, \"td\").get_attribute('csk')\n",
    "                    \n",
    "        except Exception as e:\n",
    "            pass\n",
    "        players_data_list.append(player_d)\n",
    "    fbr_df = pd.DataFrame(players_data_list)\n",
    "    fbr_df.to_csv(f'{league_name}/fbr_data.csv', index=False)\n",
    "    return fbr_df\n",
    "        "
   ]
  },
  {
   "cell_type": "code",
   "execution_count": 34,
   "metadata": {},
   "outputs": [],
   "source": [
    "fbr_link = {}\n",
    "tm_link = {}\n",
    "size_link = {}"
   ]
  },
  {
   "cell_type": "code",
   "execution_count": 58,
   "metadata": {},
   "outputs": [
    {
     "name": "stdout",
     "output_type": "stream",
     "text": [
      "2\n",
      "3\n"
     ]
    }
   ],
   "source": [
    "load_link_dicts(fbr_link, tm_link, size_link)\n",
    "for index, link in enumerate(fbr_link.keys()):\n",
    "    if index==3:\n",
    "        curr_league = link\n",
    "        curr_size = size_link[curr_league]\n",
    "        url_tm = tm_link[curr_league]\n",
    "        url_fbr = fbr_link[curr_league]\n",
    "        go_to_tm(url_tm)\n",
    "        get_teams_links(curr_league)\n",
    "        tm_teams_links_dict = load_tm_teams_links_dict(curr_league)    \n",
    "        tm_df = get_players_data(curr_league, tm_teams_links_dict)\n",
    "        \n",
    "        go_to_fbr(url_fbr)\n",
    "        get_fbr_teams_links(curr_league, int(curr_size))\n",
    "        teams_links = load_fbr_teams_links_dict(curr_league)\n",
    "        fbr_teams_players_dict = get_fbr_players_links(curr_league, tm_df, teams_links)\n",
    "        players_links_dict = load_fbr_players_links(curr_league)\n",
    "        df = get_fbr_player_info(curr_league, players_links_dict)\n",
    "        df.head()\n",
    "        "
   ]
  }
 ],
 "metadata": {
  "kernelspec": {
   "display_name": "Python 3",
   "language": "python",
   "name": "python3"
  },
  "language_info": {
   "codemirror_mode": {
    "name": "ipython",
    "version": 3
   },
   "file_extension": ".py",
   "mimetype": "text/x-python",
   "name": "python",
   "nbconvert_exporter": "python",
   "pygments_lexer": "ipython3",
   "version": "3.12.2"
  }
 },
 "nbformat": 4,
 "nbformat_minor": 2
}
